{
 "cells": [
  {
   "attachments": {},
   "cell_type": "markdown",
   "metadata": {},
   "source": [
    "The Flight.jl package is built upon a hierarchical, causal modeling and\n",
    "simulation framework. At its core lies the parametric `System` type, which\n",
    "represents a dynamical system with continuous and/or discrete dynamics. A\n",
    "`System` may have:\n",
    "- A continuous state `x`\n",
    "- A discrete state `s`\n",
    "- An external input `u`\n",
    "- An output `y`\n",
    "\n",
    "### Maybe remove this\n",
    "The `System`'s continuous dynamics are described by the ordinary differential equation\n",
    "$$\n",
    "\\dot{x} = g(x, u, s, t)\n",
    "$$\n",
    "\n",
    "Its discrete dynamics are described by the difference equation\n",
    "$$\n",
    "s_{k+1} = f_d(s_{k}, u_{k}, x_{k}, t_{k})\n",
    "$$\n",
    "\n",
    "And its output is given by the algebraic equation\n",
    "$$\n",
    "y = h(x, u, s, t)\n",
    "$$\n",
    "### Maybe remove this\n",
    "\n",
    "\n",
    "A `System` is specified through a concrete subtype of the abstract type `SystemDefinition`. This\n",
    "`SystemDefinition` subtype serves a dual purpose:\n",
    "1. It defines the values that characterize a specific instance of the `System`. These may\n",
    "   include other `SystemDefinition` subtypes.\n",
    "2. It provides a dispatch mechanism for extending the set of functions that define and initialize\n",
    "   the `System`'s properties (`x`, `u`, `y` and `s`), and those that implement the `System`'s\n",
    "   dynamics.\n",
    "\n",
    "To clarify this, let us consider a simple example: a [mass-spring-damper][1] model.\n",
    "\n",
    "The response of this system is determined by its mass $m$, its spring constant\n",
    "$k$ and its damping constant $c$. Its continuous dynamics are given by the\n",
    "differential equation $$ \\dot{v} = f - \\omega^2_n p - 2\\zeta \\omega_n v $$ $$\n",
    "\\dot{p} = v $$\n",
    "\n",
    "Where the following quantities are defined\n",
    "- Velocity: $v$\n",
    "- Position: $p$\n",
    "- Normalized external force: $f = F/m$\n",
    "- Undamped natural frequency: $\\omega_n = \\sqrt{{k}/{m}}$\n",
    "- Damping ratio: $\\zeta = {c}/{2m\\omega_n}$\n",
    "\n",
    "Of these, $\\omega_n$ and $\\zeta$ are constant parameters, $v$ and $p$ make up\n",
    "the models's continuous state `x`, and $f$ is the external input `u`. As\n",
    "outputs, we may (arbitrarily) select $p$, $v$ and the acceleration $a =\n",
    "\\dot{v}$. \n",
    "\n",
    "In its ordinary version, the mass-spring-damper model has no need for discrete\n",
    "states. To illustrate a use case for `s`, let's add a twist to the model: we\n",
    "would like the damper to engage only after the system has been in motion for\n",
    "more than $\\tau_d$ seconds, and disengage again whenever it has been\n",
    "stationary for more than $\\tau_d$ seconds.\n",
    "\n",
    "This behavior can be implemented by a simple finite state machine that keeps track of three\n",
    "variables: the damper's state (engaged or disengaged), the last time the system started moving, and\n",
    "the last time it stopped. These clearly represent states in the model, but unlike $v$ or $p$, their\n",
    "evolution is not described by a differential equation. Instead, they should be updated at the end of\n",
    "each integration step. Therefore, they belong in the `System`'s discrete state `s`.\n",
    "\n",
    "This modification also requires two additional parameters: the damper switching interval $\\tau_d$,\n",
    "and a velocity threshold $v_{\\epsilon}$, below which we will consider the system to be stationary.\n",
    "\n",
    "Now that we have a good idea of what our `System`'s constant parameters should look like, we can\n",
    "start by writing its `SystemDefinition` as\n",
    "\n",
    "[1]: https://en.wikipedia.org/wiki/Mass-spring-damper_model"
   ]
  },
  {
   "cell_type": "code",
   "execution_count": 1,
   "metadata": {},
   "outputs": [
    {
     "data": {
      "text/plain": [
       "MassSpringDamper"
      ]
     },
     "metadata": {},
     "output_type": "display_data"
    }
   ],
   "source": [
    "using Flight\n",
    "\n",
    "@kwdef struct MassSpringDamper <: SystemDefinition\n",
    "    ω_n::Float64 = 1.0 #undamped natural frequency\n",
    "    ζ::Float64 = 1.0 #damping ratio\n",
    "    τ_d::Float64 = 2 #damper enable/disable time interval\n",
    "    v_ϵ::Float64 = 1e-6 #velocity threshold\n",
    "end"
   ]
  },
  {
   "cell_type": "markdown",
   "metadata": {},
   "source": [
    "Now, to define the `System`'s `x`, `u`, `y` and `s`, we must keep a few rules in mind:\n",
    "1. `x` must be a mutable subtype of `AbstractVector{Float64}` (for example, we\n",
    "   cannot use a `SVector` from `StaticArrays.jl`)\n",
    "2. `u` and `s` can be of any type, but they should be mutable or have mutable\n",
    "   fields so that we can modify them in place\n",
    "3. `y` can be of any type\n",
    "\n",
    "Properties `x`, `u` and `s` are preallocated upon initialization and modified in-place during\n",
    "simulation. In contrast, `y` is meant to be logged, so a new instance of it will be created at every\n",
    "simulation step. Therefore, to avoid heap allocations and keep our code performant, we should\n",
    "*really* try to stick to immutable, stack-allocated types.\n",
    "\n",
    "While `x` can be defined as a plain `Vector{Float64}`, it is usually a good idea\n",
    "to use a labelled `ComponentVector{Float64}` (provided by the awesome\n",
    "[ComponentArrays.jl][ca] package).\n",
    "\n",
    "With all of this in mind, we can define the `System`'s variables through the following type definitions and function extensions:\n",
    "\n",
    "[ca]: https://github.com/jonniedie/ComponentArrays.jl"
   ]
  },
  {
   "cell_type": "code",
   "execution_count": 2,
   "metadata": {},
   "outputs": [],
   "source": [
    "using ComponentArrays\n",
    "\n",
    "@kwdef struct MassSpringDamperY\n",
    "    p::Float64 = 0.0\n",
    "    v::Float64 = 0.0\n",
    "    a::Float64 = 0.0\n",
    "end\n",
    "\n",
    "@kwdef mutable struct MassSpringDamperS\n",
    "    damper_engaged::Bool = false\n",
    "    t_last_moving::Float64 = 0.0\n",
    "    t_last_stopped::Float64 = 0.0\n",
    "end\n",
    "\n",
    "Systems.X(::MassSpringDamper) = ComponentVector(p = 0.0, v = 0.0)\n",
    "Systems.U(::MassSpringDamper) = Ref(0.0)\n",
    "Systems.Y(::MassSpringDamper) = MassSpringDamperY()\n",
    "Systems.S(::MassSpringDamper) = MassSpringDamperS()"
   ]
  },
  {
   "attachments": {},
   "cell_type": "markdown",
   "metadata": {},
   "source": [
    "A few comments:\n",
    "- `X`, `U`, `Y` and `S` are empty, trait-like types, used only for dispatch within the `System` constructor. \n",
    "- Our `System`'s input (the mass-normalized force $f$) is a scalar. Since a\n",
    "  plain `Float64` would be immutable, we wrap it around a `Ref` so we can change\n",
    "  its value during simulation. Alternatively,\n",
    "  we could define a custom mutable type holding a single `Float64`.\n",
    "- Being immutable, we could also declare `Y` to be a `NamedTuple`, but defining a custom type is more convenient in certain scenarios.\n",
    "- If our `System` had no `x`,`u`, `y` or `s`, their corresponding method definitions could be omitted and they would be initialized to `nothing` by default."
   ]
  },
  {
   "cell_type": "markdown",
   "metadata": {},
   "source": [
    "We can now go on to define the `System`'s dynamics. We do so by means of the following function extensions:"
   ]
  },
  {
   "cell_type": "code",
   "execution_count": null,
   "metadata": {},
   "outputs": [],
   "source": [
    "using UnPack\n",
    "\n",
    "function Systems.f_ode!(sys::System{<:MassSpringDamper})\n",
    "\n",
    "    @unpack x, u, s, constants = sys\n",
    "    @unpack p, v = x\n",
    "    @unpack ω_n, ζ = constants\n",
    "\n",
    "    f = u[] #de-reference u to get the underlying Float64\n",
    "    ζ *= s.damper_engaged\n",
    "    a = f - ω_n^2 * p - 2ζ * ω_n * v\n",
    "\n",
    "    #update sys.ẋ\n",
    "    sys.ẋ.v = a\n",
    "    sys.ẋ.p = v\n",
    "\n",
    "    #update sys.y (cannot be mutated, we need to assign a new instance to it)\n",
    "    sys.y = MassSpringDamperY(; p, v, a)\n",
    "end\n",
    "\n",
    "function Systems.f_step!(sys::System{<:MassSpringDamper})\n",
    "\n",
    "    @unpack x, s, t, constants = sys\n",
    "    @unpack Δt_d, v_ϵ = constants\n",
    "\n",
    "    #t also needs to be de-referenced\n",
    "    abs(x.v) > v_ϵ ? s.t_last_moving = t[] : s.t_last_stopped = t[]\n",
    "\n",
    "    Δt_stopped = t[] - s.t_last_moving\n",
    "    Δt_moving = t[] - s.t_last_stopped\n",
    "\n",
    "    if s.damper_engaged\n",
    "        (Δt_stopped > Δt_d) && (s.damper_engaged = false)\n",
    "    else\n",
    "        (Δt_moving > Δt_d) && (s.damper_engaged = true)\n",
    "    end\n",
    "\n",
    "end\n",
    "\n",
    "Systems.f_disc!(::NoScheduling, sys::System{<:MassSpringDamper}) = nothing"
   ]
  },
  {
   "cell_type": "markdown",
   "metadata": {},
   "source": [
    "Function `f_ode!` packs the `System`'s continuous dynamics $\\dot{x} = g(x,u,s,t)$ and observation\n",
    "equation $y = h(x,u,s,t)$ into a single equation $(\\dot{x}, y) = f(x, u, s, t)$. This is a design\n",
    "decision; for many complex systems in this package, $\\dot{x}$ and $y$ share lots of intermediate\n",
    "computations, which would have to be performed twice were $g$ and $h$ defined in separate methods.\n",
    "\n",
    "Function `f_step!` implements the `System`'s discrete dynamics $s_{k+1} = f_s(x_{k}, u_{k}, s_{k},\n",
    "t_{k})$, which is to be executed after each continuous integration step.\n",
    "\n",
    "A `System` may also have discrete dynamics that update not on every integration step, but with some\n",
    "arbitrary period $\\Delta t$. This is the purpose of function `f_disc!`, which has the signature\n",
    "above. In this case, it does nothing.\n",
    "\n",
    "For safety reasons, no trivial fallback methods are provided for these three functions, so they must\n",
    "be defined for every `System`. For convenience, macros `@no_ode`, `@no_step` and `@no_disc` are\n",
    "provided. Instead of the trivial `f_disc!` method above, we could have written `@no_disc\n",
    "MassSpringDamper`."
   ]
  },
  {
   "cell_type": "markdown",
   "metadata": {},
   "source": [
    "Add initialization!!!!!!!"
   ]
  },
  {
   "cell_type": "code",
   "execution_count": null,
   "metadata": {},
   "outputs": [
    {
     "name": "stdout",
     "output_type": "stream",
     "text": [
      "typeof(sys) = System{MassSpringDamper, MassSpringDamperY, Base.RefValue{Float64}, ComponentVector{Float64, Vector{Float64}, Tuple{Axis{(p = 1, v = 2)}}}, MassSpringDamperS, @NamedTuple{ω_n::Float64, ζ::Float64, τ_d::Float64, v_ϵ::Float64}, @NamedTuple{}}\n",
      "propertynames(sys) = (:y, :u, :ẋ, :x, :s, :N, :Δt_root, :t, :n, :constants, :subsystems, :Δt, :ω_n, :ζ, :τ_d, :v_ϵ)\n"
     ]
    },
    {
     "data": {
      "text/plain": [
       "(:y, :u, :ẋ, :x, :s, :N, :Δt_root, :t, :n, :constants, :subsystems, :Δt, :ω_n, :ζ, :τ_d, :v_ϵ)"
      ]
     },
     "metadata": {},
     "output_type": "display_data"
    }
   ],
   "source": [
    "sys_desc = MassSpringDamper(; ω_n = 20.0, ζ = 0.4, τ_d = 1)\n",
    "sys = System(sys_desc)\n",
    "@show typeof(sys)\n",
    "@show propertynames(sys)"
   ]
  },
  {
   "cell_type": "markdown",
   "metadata": {},
   "source": [
    "We can see that all the `System`'s variables have been allocated as specified by our methods, and the parameters for this particular `MassSpringDamper` instance are now available to us in the `System`'s `constants` field. Note the `System`'s time `t` is also stored as a `Ref`."
   ]
  },
  {
   "cell_type": "markdown",
   "metadata": {},
   "source": [
    "After defining the `System`'s dynamics, it is usually a good idea to do a quick check for unexpected allocations:"
   ]
  },
  {
   "cell_type": "code",
   "execution_count": 6,
   "metadata": {},
   "outputs": [
    {
     "ename": "UndefVarError",
     "evalue": "UndefVarError: `sys` not defined in `Main`\nSuggestion: check for spelling errors or missing imports.",
     "output_type": "error",
     "traceback": [
      "UndefVarError: `sys` not defined in `Main`\n",
      "Suggestion: check for spelling errors or missing imports.\n",
      "\n",
      "Stacktrace:\n",
      " [1] top-level scope\n",
      "   @ ~/.julia/dev/Flight.jl/tmp/tutorials/jl_notebook_cell_df34fa98e69747e1a8f8a730347b8e2f_X16sZmlsZQ==.jl:3"
     ]
    }
   ],
   "source": [
    "using BenchmarkTools\n",
    "\n",
    "sys.u[] = 0.0\n",
    "f_ode!(sys)\n",
    "@show sys.ẋ\n",
    "Utils.showfields(sys.y)\n",
    "\n",
    "sys.u[] = 1.0\n",
    "f_ode!(sys)\n",
    "@show sys.ẋ\n",
    "Utils.showfields(sys.y)\n",
    "\n",
    "@assert @ballocated(f_ode!($sys)) == 0\n",
    "@assert @ballocated(f_step!($sys)) == 0\n"
   ]
  },
  {
   "cell_type": "markdown",
   "metadata": {},
   "source": [
    "Now we are ready to simulate our `System`. For this, we create a `Simulation`:"
   ]
  },
  {
   "cell_type": "code",
   "execution_count": 7,
   "metadata": {},
   "outputs": [
    {
     "ename": "UndefVarError",
     "evalue": "UndefVarError: `sys` not defined in `Main`\nSuggestion: check for spelling errors or missing imports.",
     "output_type": "error",
     "traceback": [
      "UndefVarError: `sys` not defined in `Main`\n",
      "Suggestion: check for spelling errors or missing imports.\n",
      "\n",
      "Stacktrace:\n",
      " [1] top-level scope\n",
      "   @ ~/.julia/dev/Flight.jl/tmp/tutorials/jl_notebook_cell_df34fa98e69747e1a8f8a730347b8e2f_X21sZmlsZQ==.jl:1"
     ]
    }
   ],
   "source": [
    "sim = Simulation(sys);"
   ]
  },
  {
   "cell_type": "markdown",
   "metadata": {},
   "source": [
    "A `Simulation` is a parametric type that couples a `System` with a `OrdinaryDiffEq.ODEIntegrator`. It hooks into the `ODEIntegrator` interface to update the `System`'s internal variables, while adding a bit of machinery to ease user interaction with the `System` during and after simulation. Most of this is done via function wrappers and `DiffEqCallbacks`.\n",
    "\n",
    "Any ODE algorithm in the `OrdinaryDiffEq` ecosystem can be used for numerical integration. However, fixed-step algorithms are typically preferred for aircraft simulation, because many aircraft systems have discrete dynamics that require a fixed update period (think, for example, of a control law or filter discretized for digital implementation). By default, a `Simulation` chooses a RK4 algorithm. \n",
    "\n",
    "`Simulation` extends the `SciMLBase.step!` function, which works like it does for an `ODEIntegrator`. It also defines a `run!` function, which is equivalent to `SciMLBase.solve!`, but allows pacing the integrator for pseudo-real time execution.\n",
    "\n",
    "The initial values for `x`, `u` and `s` are those held by the `System` when it is passed to the `Simulation` constructor. `Simulation` does not provide a `reinit!` function; the safest and most convenient way to run a simulation more than once is to set up a function that initializes the `System`'s `x`, `u` and `s` to their desired values, and then instantiate a new simulation from it. Of course, if the default values set by the initialization methods are good enough, the `System` can simply be recreated from its descriptor."
   ]
  },
  {
   "cell_type": "code",
   "execution_count": 8,
   "metadata": {},
   "outputs": [
    {
     "ename": "UndefVarError",
     "evalue": "UndefVarError: `sys_desc` not defined in `Main`\nSuggestion: check for spelling errors or missing imports.",
     "output_type": "error",
     "traceback": [
      "UndefVarError: `sys_desc` not defined in `Main`\n",
      "Suggestion: check for spelling errors or missing imports.\n",
      "\n",
      "Stacktrace:\n",
      " [1] top-level scope\n",
      "   @ ~/.julia/dev/Flight.jl/tmp/tutorials/jl_notebook_cell_df34fa98e69747e1a8f8a730347b8e2f_X23sZmlsZQ==.jl:1"
     ]
    }
   ],
   "source": [
    "sim = Simulation(System(sys_desc); t_end = 10) #instantiate a new simulation using the System's default x, u and s\n",
    "sim.u[] = 1.0 #we can access the underlying System's fields directly\n",
    "step!(sim, 5.0, true) #step the simulation to t = 5.0 and stop\n",
    "sim.u[] = 0.0 #release the external force\n",
    "step!(sim, 10) #step to the end"
   ]
  },
  {
   "cell_type": "markdown",
   "metadata": {},
   "source": [
    "By default, the `Simulation` logs the `System`'s output `y` at every time step. To retrieve it, we simply do:"
   ]
  },
  {
   "cell_type": "code",
   "execution_count": 9,
   "metadata": {},
   "outputs": [
    {
     "ename": "UndefVarError",
     "evalue": "UndefVarError: `sim` not defined in `Main`\nSuggestion: check for spelling errors or missing imports.",
     "output_type": "error",
     "traceback": [
      "UndefVarError: `sim` not defined in `Main`\n",
      "Suggestion: check for spelling errors or missing imports.\n",
      "\n",
      "Stacktrace:\n",
      " [1] top-level scope\n",
      "   @ ~/.julia/dev/Flight.jl/tmp/tutorials/jl_notebook_cell_df34fa98e69747e1a8f8a730347b8e2f_X25sZmlsZQ==.jl:1"
     ]
    }
   ],
   "source": [
    "ts = TimeSeries(sim);"
   ]
  },
  {
   "cell_type": "markdown",
   "metadata": {},
   "source": [
    "The `TimeSeries` type groups an array of logged values with its corresponding array of simulation times. Here are some examples of what it supports:"
   ]
  },
  {
   "cell_type": "code",
   "execution_count": 10,
   "metadata": {},
   "outputs": [
    {
     "ename": "UndefVarError",
     "evalue": "UndefVarError: `ts` not defined in `Main`\nSuggestion: check for spelling errors or missing imports.",
     "output_type": "error",
     "traceback": [
      "UndefVarError: `ts` not defined in `Main`\n",
      "Suggestion: check for spelling errors or missing imports.\n",
      "\n",
      "Stacktrace:\n",
      " [1] macro expansion\n",
      "   @ show.jl:1229 [inlined]\n",
      " [2] top-level scope\n",
      "   @ ~/.julia/dev/Flight.jl/tmp/tutorials/jl_notebook_cell_df34fa98e69747e1a8f8a730347b8e2f_X30sZmlsZQ==.jl:1"
     ]
    }
   ],
   "source": [
    "@show typeof(ts)\n",
    "@show length(ts)\n",
    "\n",
    "t = timestamps(ts)\n",
    "\n",
    "th_3 = ts[t .> 3]; #can be indexed into\n",
    "@show length(th_3)\n",
    "\n",
    "th_p = ts.p #accessing a field of the logged type returns a TimeSeries for that field\n",
    "@show typeof(th_p)\n",
    "\n",
    "#default Plot recipes are provided for TimeSeries{<:Real} and TimeSeries{<:AbstractVector{<:Real}}\n",
    "using Plots\n",
    "plot(th_p; plot_title = \"Mass Position\", ylabel = \"p (m)\") #plot position"
   ]
  },
  {
   "cell_type": "code",
   "execution_count": 11,
   "metadata": {},
   "outputs": [],
   "source": []
  }
 ],
 "metadata": {
  "kernelspec": {
   "display_name": "Julia 1.11.1",
   "language": "julia",
   "name": "julia-1.11"
  },
  "language_info": {
   "file_extension": ".jl",
   "mimetype": "application/julia",
   "name": "julia",
   "version": "1.11.1"
  },
  "orig_nbformat": 4,
  "vscode": {
   "interpreter": {
    "hash": "9613f0ca2c7f33c79b6f4ee2fcd17d1de6e68785f447e33bf31ff089c040462b"
   }
  }
 },
 "nbformat": 4,
 "nbformat_minor": 2
}
